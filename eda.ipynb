{
 "metadata": {
  "name": "",
  "signature": "sha256:37803e2681eb763f9e58639f14ecae4ec9add1fa1833a5b8284078aa35b53cc4"
 },
 "nbformat": 3,
 "nbformat_minor": 0,
 "worksheets": [
  {
   "cells": [
    {
     "cell_type": "code",
     "collapsed": false,
     "input": [
      "%pylab inline\n",
      "from sklearn.feature_extraction.text import TfidfVectorizer\n",
      "from sklearn.feature_extraction.text import CountVectorizer\n",
      "from sklearn.preprocessing import scale\n",
      "from nltk.stem.porter import PorterStemmer \n",
      "from nltk.corpus import stopwords\n",
      "import json\n",
      "import itertools"
     ],
     "language": "python",
     "metadata": {},
     "outputs": [
      {
       "output_type": "stream",
       "stream": "stdout",
       "text": [
        "Populating the interactive namespace from numpy and matplotlib\n"
       ]
      }
     ],
     "prompt_number": 1
    },
    {
     "cell_type": "code",
     "collapsed": false,
     "input": [
      "df = pd.read_csv('data/train.tsv',sep='\\t',na_values='?')"
     ],
     "language": "python",
     "metadata": {},
     "outputs": [],
     "prompt_number": 2
    },
    {
     "cell_type": "code",
     "collapsed": false,
     "input": [
      "df.head()"
     ],
     "language": "python",
     "metadata": {},
     "outputs": [
      {
       "html": [
        "<div style=\"max-height:1000px;max-width:1500px;overflow:auto;\">\n",
        "<table border=\"1\" class=\"dataframe\">\n",
        "  <thead>\n",
        "    <tr style=\"text-align: right;\">\n",
        "      <th></th>\n",
        "      <th>url</th>\n",
        "      <th>urlid</th>\n",
        "      <th>boilerplate</th>\n",
        "      <th>alchemy_category</th>\n",
        "      <th>alchemy_category_score</th>\n",
        "      <th>avglinksize</th>\n",
        "      <th>commonlinkratio_1</th>\n",
        "      <th>commonlinkratio_2</th>\n",
        "      <th>commonlinkratio_3</th>\n",
        "      <th>commonlinkratio_4</th>\n",
        "      <th>compression_ratio</th>\n",
        "      <th>embed_ratio</th>\n",
        "      <th>framebased</th>\n",
        "      <th>frameTagRatio</th>\n",
        "      <th>hasDomainLink</th>\n",
        "      <th>html_ratio</th>\n",
        "      <th>image_ratio</th>\n",
        "      <th>is_news</th>\n",
        "      <th>lengthyLinkDomain</th>\n",
        "      <th>linkwordscore</th>\n",
        "      <th></th>\n",
        "    </tr>\n",
        "  </thead>\n",
        "  <tbody>\n",
        "    <tr>\n",
        "      <th>0</th>\n",
        "      <td> http://www.bloomberg.com/news/2010-12-23/ibm-p...</td>\n",
        "      <td> 4042</td>\n",
        "      <td> {\"title\":\"IBM Sees Holographic Calls Air Breat...</td>\n",
        "      <td>   business</td>\n",
        "      <td> 0.789131</td>\n",
        "      <td> 2.055556</td>\n",
        "      <td> 0.676471</td>\n",
        "      <td> 0.205882</td>\n",
        "      <td> 0.047059</td>\n",
        "      <td> 0.023529</td>\n",
        "      <td> 0.443783</td>\n",
        "      <td> 0</td>\n",
        "      <td> 0</td>\n",
        "      <td> 0.090774</td>\n",
        "      <td> 0</td>\n",
        "      <td> 0.245831</td>\n",
        "      <td> 0.003883</td>\n",
        "      <td> 1</td>\n",
        "      <td> 1</td>\n",
        "      <td> 24</td>\n",
        "      <td>...</td>\n",
        "    </tr>\n",
        "    <tr>\n",
        "      <th>1</th>\n",
        "      <td> http://www.popsci.com/technology/article/2012-...</td>\n",
        "      <td> 8471</td>\n",
        "      <td> {\"title\":\"The Fully Electronic Futuristic Star...</td>\n",
        "      <td> recreation</td>\n",
        "      <td> 0.574147</td>\n",
        "      <td> 3.677966</td>\n",
        "      <td> 0.508021</td>\n",
        "      <td> 0.288770</td>\n",
        "      <td> 0.213904</td>\n",
        "      <td> 0.144385</td>\n",
        "      <td> 0.468649</td>\n",
        "      <td> 0</td>\n",
        "      <td> 0</td>\n",
        "      <td> 0.098707</td>\n",
        "      <td> 0</td>\n",
        "      <td> 0.203490</td>\n",
        "      <td> 0.088652</td>\n",
        "      <td> 1</td>\n",
        "      <td> 1</td>\n",
        "      <td> 40</td>\n",
        "      <td>...</td>\n",
        "    </tr>\n",
        "    <tr>\n",
        "      <th>2</th>\n",
        "      <td> http://www.menshealth.com/health/flu-fighting-...</td>\n",
        "      <td> 1164</td>\n",
        "      <td> {\"title\":\"Fruits that Fight the Flu fruits tha...</td>\n",
        "      <td>     health</td>\n",
        "      <td> 0.996526</td>\n",
        "      <td> 2.382883</td>\n",
        "      <td> 0.562016</td>\n",
        "      <td> 0.321705</td>\n",
        "      <td> 0.120155</td>\n",
        "      <td> 0.042636</td>\n",
        "      <td> 0.525448</td>\n",
        "      <td> 0</td>\n",
        "      <td> 0</td>\n",
        "      <td> 0.072448</td>\n",
        "      <td> 0</td>\n",
        "      <td> 0.226402</td>\n",
        "      <td> 0.120536</td>\n",
        "      <td> 1</td>\n",
        "      <td> 1</td>\n",
        "      <td> 55</td>\n",
        "      <td>...</td>\n",
        "    </tr>\n",
        "    <tr>\n",
        "      <th>3</th>\n",
        "      <td> http://www.dumblittleman.com/2007/12/10-foolpr...</td>\n",
        "      <td> 6684</td>\n",
        "      <td> {\"title\":\"10 Foolproof Tips for Better Sleep \"...</td>\n",
        "      <td>     health</td>\n",
        "      <td> 0.801248</td>\n",
        "      <td> 1.543103</td>\n",
        "      <td> 0.400000</td>\n",
        "      <td> 0.100000</td>\n",
        "      <td> 0.016667</td>\n",
        "      <td> 0.000000</td>\n",
        "      <td> 0.480725</td>\n",
        "      <td> 0</td>\n",
        "      <td> 0</td>\n",
        "      <td> 0.095861</td>\n",
        "      <td> 0</td>\n",
        "      <td> 0.265656</td>\n",
        "      <td> 0.035343</td>\n",
        "      <td> 1</td>\n",
        "      <td> 0</td>\n",
        "      <td> 24</td>\n",
        "      <td>...</td>\n",
        "    </tr>\n",
        "    <tr>\n",
        "      <th>4</th>\n",
        "      <td> http://bleacherreport.com/articles/1205138-the...</td>\n",
        "      <td> 9006</td>\n",
        "      <td> {\"title\":\"The 50 Coolest Jerseys You Didn t Kn...</td>\n",
        "      <td>     sports</td>\n",
        "      <td> 0.719157</td>\n",
        "      <td> 2.676471</td>\n",
        "      <td> 0.500000</td>\n",
        "      <td> 0.222222</td>\n",
        "      <td> 0.123457</td>\n",
        "      <td> 0.043210</td>\n",
        "      <td> 0.446143</td>\n",
        "      <td> 0</td>\n",
        "      <td> 0</td>\n",
        "      <td> 0.024908</td>\n",
        "      <td> 0</td>\n",
        "      <td> 0.228887</td>\n",
        "      <td> 0.050473</td>\n",
        "      <td> 1</td>\n",
        "      <td> 1</td>\n",
        "      <td> 14</td>\n",
        "      <td>...</td>\n",
        "    </tr>\n",
        "  </tbody>\n",
        "</table>\n",
        "<p>5 rows \u00d7 27 columns</p>\n",
        "</div>"
       ],
       "metadata": {},
       "output_type": "pyout",
       "prompt_number": 138,
       "text": [
        "                                                 url  urlid  \\\n",
        "0  http://www.bloomberg.com/news/2010-12-23/ibm-p...   4042   \n",
        "1  http://www.popsci.com/technology/article/2012-...   8471   \n",
        "2  http://www.menshealth.com/health/flu-fighting-...   1164   \n",
        "3  http://www.dumblittleman.com/2007/12/10-foolpr...   6684   \n",
        "4  http://bleacherreport.com/articles/1205138-the...   9006   \n",
        "\n",
        "                                         boilerplate alchemy_category  \\\n",
        "0  {\"title\":\"IBM Sees Holographic Calls Air Breat...         business   \n",
        "1  {\"title\":\"The Fully Electronic Futuristic Star...       recreation   \n",
        "2  {\"title\":\"Fruits that Fight the Flu fruits tha...           health   \n",
        "3  {\"title\":\"10 Foolproof Tips for Better Sleep \"...           health   \n",
        "4  {\"title\":\"The 50 Coolest Jerseys You Didn t Kn...           sports   \n",
        "\n",
        "   alchemy_category_score  avglinksize  commonlinkratio_1  commonlinkratio_2  \\\n",
        "0                0.789131     2.055556           0.676471           0.205882   \n",
        "1                0.574147     3.677966           0.508021           0.288770   \n",
        "2                0.996526     2.382883           0.562016           0.321705   \n",
        "3                0.801248     1.543103           0.400000           0.100000   \n",
        "4                0.719157     2.676471           0.500000           0.222222   \n",
        "\n",
        "   commonlinkratio_3  commonlinkratio_4  compression_ratio  embed_ratio  \\\n",
        "0           0.047059           0.023529           0.443783            0   \n",
        "1           0.213904           0.144385           0.468649            0   \n",
        "2           0.120155           0.042636           0.525448            0   \n",
        "3           0.016667           0.000000           0.480725            0   \n",
        "4           0.123457           0.043210           0.446143            0   \n",
        "\n",
        "   framebased  frameTagRatio  hasDomainLink  html_ratio  image_ratio  is_news  \\\n",
        "0           0       0.090774              0    0.245831     0.003883        1   \n",
        "1           0       0.098707              0    0.203490     0.088652        1   \n",
        "2           0       0.072448              0    0.226402     0.120536        1   \n",
        "3           0       0.095861              0    0.265656     0.035343        1   \n",
        "4           0       0.024908              0    0.228887     0.050473        1   \n",
        "\n",
        "   lengthyLinkDomain  linkwordscore      \n",
        "0                  1             24 ...  \n",
        "1                  1             40 ...  \n",
        "2                  1             55 ...  \n",
        "3                  0             24 ...  \n",
        "4                  1             14 ...  \n",
        "\n",
        "[5 rows x 27 columns]"
       ]
      }
     ],
     "prompt_number": 138
    },
    {
     "cell_type": "code",
     "collapsed": false,
     "input": [
      "df = df.fillna(df.mean())"
     ],
     "language": "python",
     "metadata": {},
     "outputs": [],
     "prompt_number": 109
    },
    {
     "cell_type": "code",
     "collapsed": false,
     "input": [
      "y = df['label']\n",
      "df = df.drop('label',axis=1)\n",
      "print df.columns"
     ],
     "language": "python",
     "metadata": {},
     "outputs": [
      {
       "output_type": "stream",
       "stream": "stdout",
       "text": [
        "Index([u'url', u'urlid', u'boilerplate', u'alchemy_category', u'alchemy_category_score', u'avglinksize', u'commonlinkratio_1', u'commonlinkratio_2', u'commonlinkratio_3', u'commonlinkratio_4', u'compression_ratio', u'embed_ratio', u'framebased', u'frameTagRatio', u'hasDomainLink', u'html_ratio', u'image_ratio', u'is_news', u'lengthyLinkDomain', u'linkwordscore', u'news_front_page', u'non_markup_alphanum_characters', u'numberOfLinks', u'numwords_in_url', u'parametrizedLinkRatio', u'spelling_errors_ratio'], dtype='object')\n"
       ]
      }
     ],
     "prompt_number": 3
    },
    {
     "cell_type": "code",
     "collapsed": false,
     "input": [
      "for cat in df['alchemy_category'].unique():\n",
      "    df[str(cat)] = np.where(df['alchemy_category'] == cat, 1, 0)\n",
      "df.columns"
     ],
     "language": "python",
     "metadata": {},
     "outputs": [
      {
       "metadata": {},
       "output_type": "pyout",
       "prompt_number": 150,
       "text": [
        "Index([u'url', u'urlid', u'boilerplate', u'alchemy_category', u'alchemy_category_score', u'avglinksize', u'commonlinkratio_1', u'commonlinkratio_2', u'commonlinkratio_3', u'commonlinkratio_4', u'compression_ratio', u'embed_ratio', u'framebased', u'frameTagRatio', u'hasDomainLink', u'html_ratio', u'image_ratio', u'is_news', u'lengthyLinkDomain', u'linkwordscore', u'news_front_page', u'non_markup_alphanum_characters', u'numberOfLinks', u'numwords_in_url', u'parametrizedLinkRatio', u'spelling_errors_ratio', u'business', u'recreation', u'health', u'sports', u'nan', u'arts_entertainment', u'science_technology', u'gaming', u'culture_politics', u'computer_internet', u'law_crime', u'religion', u'weather', u'unknown'], dtype='object')"
       ]
      }
     ],
     "prompt_number": 150
    },
    {
     "cell_type": "code",
     "collapsed": false,
     "input": [
      "df.iloc[:,-14:].head(20)"
     ],
     "language": "python",
     "metadata": {},
     "outputs": [
      {
       "html": [
        "<div style=\"max-height:1000px;max-width:1500px;overflow:auto;\">\n",
        "<table border=\"1\" class=\"dataframe\">\n",
        "  <thead>\n",
        "    <tr style=\"text-align: right;\">\n",
        "      <th></th>\n",
        "      <th>business</th>\n",
        "      <th>recreation</th>\n",
        "      <th>health</th>\n",
        "      <th>sports</th>\n",
        "      <th>nan</th>\n",
        "      <th>arts_entertainment</th>\n",
        "      <th>science_technology</th>\n",
        "      <th>gaming</th>\n",
        "      <th>culture_politics</th>\n",
        "      <th>computer_internet</th>\n",
        "      <th>law_crime</th>\n",
        "      <th>religion</th>\n",
        "      <th>weather</th>\n",
        "      <th>unknown</th>\n",
        "    </tr>\n",
        "  </thead>\n",
        "  <tbody>\n",
        "    <tr>\n",
        "      <th>0 </th>\n",
        "      <td> 1</td>\n",
        "      <td> 0</td>\n",
        "      <td> 0</td>\n",
        "      <td> 0</td>\n",
        "      <td> 0</td>\n",
        "      <td> 0</td>\n",
        "      <td> 0</td>\n",
        "      <td> 0</td>\n",
        "      <td> 0</td>\n",
        "      <td> 0</td>\n",
        "      <td> 0</td>\n",
        "      <td> 0</td>\n",
        "      <td> 0</td>\n",
        "      <td> 0</td>\n",
        "    </tr>\n",
        "    <tr>\n",
        "      <th>1 </th>\n",
        "      <td> 0</td>\n",
        "      <td> 1</td>\n",
        "      <td> 0</td>\n",
        "      <td> 0</td>\n",
        "      <td> 0</td>\n",
        "      <td> 0</td>\n",
        "      <td> 0</td>\n",
        "      <td> 0</td>\n",
        "      <td> 0</td>\n",
        "      <td> 0</td>\n",
        "      <td> 0</td>\n",
        "      <td> 0</td>\n",
        "      <td> 0</td>\n",
        "      <td> 0</td>\n",
        "    </tr>\n",
        "    <tr>\n",
        "      <th>2 </th>\n",
        "      <td> 0</td>\n",
        "      <td> 0</td>\n",
        "      <td> 1</td>\n",
        "      <td> 0</td>\n",
        "      <td> 0</td>\n",
        "      <td> 0</td>\n",
        "      <td> 0</td>\n",
        "      <td> 0</td>\n",
        "      <td> 0</td>\n",
        "      <td> 0</td>\n",
        "      <td> 0</td>\n",
        "      <td> 0</td>\n",
        "      <td> 0</td>\n",
        "      <td> 0</td>\n",
        "    </tr>\n",
        "    <tr>\n",
        "      <th>3 </th>\n",
        "      <td> 0</td>\n",
        "      <td> 0</td>\n",
        "      <td> 1</td>\n",
        "      <td> 0</td>\n",
        "      <td> 0</td>\n",
        "      <td> 0</td>\n",
        "      <td> 0</td>\n",
        "      <td> 0</td>\n",
        "      <td> 0</td>\n",
        "      <td> 0</td>\n",
        "      <td> 0</td>\n",
        "      <td> 0</td>\n",
        "      <td> 0</td>\n",
        "      <td> 0</td>\n",
        "    </tr>\n",
        "    <tr>\n",
        "      <th>4 </th>\n",
        "      <td> 0</td>\n",
        "      <td> 0</td>\n",
        "      <td> 0</td>\n",
        "      <td> 1</td>\n",
        "      <td> 0</td>\n",
        "      <td> 0</td>\n",
        "      <td> 0</td>\n",
        "      <td> 0</td>\n",
        "      <td> 0</td>\n",
        "      <td> 0</td>\n",
        "      <td> 0</td>\n",
        "      <td> 0</td>\n",
        "      <td> 0</td>\n",
        "      <td> 0</td>\n",
        "    </tr>\n",
        "    <tr>\n",
        "      <th>5 </th>\n",
        "      <td> 0</td>\n",
        "      <td> 0</td>\n",
        "      <td> 0</td>\n",
        "      <td> 0</td>\n",
        "      <td> 0</td>\n",
        "      <td> 0</td>\n",
        "      <td> 0</td>\n",
        "      <td> 0</td>\n",
        "      <td> 0</td>\n",
        "      <td> 0</td>\n",
        "      <td> 0</td>\n",
        "      <td> 0</td>\n",
        "      <td> 0</td>\n",
        "      <td> 0</td>\n",
        "    </tr>\n",
        "    <tr>\n",
        "      <th>6 </th>\n",
        "      <td> 0</td>\n",
        "      <td> 0</td>\n",
        "      <td> 0</td>\n",
        "      <td> 0</td>\n",
        "      <td> 0</td>\n",
        "      <td> 1</td>\n",
        "      <td> 0</td>\n",
        "      <td> 0</td>\n",
        "      <td> 0</td>\n",
        "      <td> 0</td>\n",
        "      <td> 0</td>\n",
        "      <td> 0</td>\n",
        "      <td> 0</td>\n",
        "      <td> 0</td>\n",
        "    </tr>\n",
        "    <tr>\n",
        "      <th>7 </th>\n",
        "      <td> 0</td>\n",
        "      <td> 0</td>\n",
        "      <td> 0</td>\n",
        "      <td> 0</td>\n",
        "      <td> 0</td>\n",
        "      <td> 0</td>\n",
        "      <td> 0</td>\n",
        "      <td> 0</td>\n",
        "      <td> 0</td>\n",
        "      <td> 0</td>\n",
        "      <td> 0</td>\n",
        "      <td> 0</td>\n",
        "      <td> 0</td>\n",
        "      <td> 0</td>\n",
        "    </tr>\n",
        "    <tr>\n",
        "      <th>8 </th>\n",
        "      <td> 0</td>\n",
        "      <td> 0</td>\n",
        "      <td> 0</td>\n",
        "      <td> 0</td>\n",
        "      <td> 0</td>\n",
        "      <td> 0</td>\n",
        "      <td> 0</td>\n",
        "      <td> 0</td>\n",
        "      <td> 0</td>\n",
        "      <td> 0</td>\n",
        "      <td> 0</td>\n",
        "      <td> 0</td>\n",
        "      <td> 0</td>\n",
        "      <td> 0</td>\n",
        "    </tr>\n",
        "    <tr>\n",
        "      <th>9 </th>\n",
        "      <td> 0</td>\n",
        "      <td> 0</td>\n",
        "      <td> 0</td>\n",
        "      <td> 0</td>\n",
        "      <td> 0</td>\n",
        "      <td> 0</td>\n",
        "      <td> 0</td>\n",
        "      <td> 0</td>\n",
        "      <td> 0</td>\n",
        "      <td> 0</td>\n",
        "      <td> 0</td>\n",
        "      <td> 0</td>\n",
        "      <td> 0</td>\n",
        "      <td> 0</td>\n",
        "    </tr>\n",
        "    <tr>\n",
        "      <th>10</th>\n",
        "      <td> 1</td>\n",
        "      <td> 0</td>\n",
        "      <td> 0</td>\n",
        "      <td> 0</td>\n",
        "      <td> 0</td>\n",
        "      <td> 0</td>\n",
        "      <td> 0</td>\n",
        "      <td> 0</td>\n",
        "      <td> 0</td>\n",
        "      <td> 0</td>\n",
        "      <td> 0</td>\n",
        "      <td> 0</td>\n",
        "      <td> 0</td>\n",
        "      <td> 0</td>\n",
        "    </tr>\n",
        "    <tr>\n",
        "      <th>11</th>\n",
        "      <td> 0</td>\n",
        "      <td> 0</td>\n",
        "      <td> 0</td>\n",
        "      <td> 1</td>\n",
        "      <td> 0</td>\n",
        "      <td> 0</td>\n",
        "      <td> 0</td>\n",
        "      <td> 0</td>\n",
        "      <td> 0</td>\n",
        "      <td> 0</td>\n",
        "      <td> 0</td>\n",
        "      <td> 0</td>\n",
        "      <td> 0</td>\n",
        "      <td> 0</td>\n",
        "    </tr>\n",
        "    <tr>\n",
        "      <th>12</th>\n",
        "      <td> 0</td>\n",
        "      <td> 0</td>\n",
        "      <td> 1</td>\n",
        "      <td> 0</td>\n",
        "      <td> 0</td>\n",
        "      <td> 0</td>\n",
        "      <td> 0</td>\n",
        "      <td> 0</td>\n",
        "      <td> 0</td>\n",
        "      <td> 0</td>\n",
        "      <td> 0</td>\n",
        "      <td> 0</td>\n",
        "      <td> 0</td>\n",
        "      <td> 0</td>\n",
        "    </tr>\n",
        "    <tr>\n",
        "      <th>13</th>\n",
        "      <td> 0</td>\n",
        "      <td> 0</td>\n",
        "      <td> 0</td>\n",
        "      <td> 0</td>\n",
        "      <td> 0</td>\n",
        "      <td> 0</td>\n",
        "      <td> 0</td>\n",
        "      <td> 0</td>\n",
        "      <td> 0</td>\n",
        "      <td> 0</td>\n",
        "      <td> 0</td>\n",
        "      <td> 0</td>\n",
        "      <td> 0</td>\n",
        "      <td> 0</td>\n",
        "    </tr>\n",
        "    <tr>\n",
        "      <th>14</th>\n",
        "      <td> 0</td>\n",
        "      <td> 1</td>\n",
        "      <td> 0</td>\n",
        "      <td> 0</td>\n",
        "      <td> 0</td>\n",
        "      <td> 0</td>\n",
        "      <td> 0</td>\n",
        "      <td> 0</td>\n",
        "      <td> 0</td>\n",
        "      <td> 0</td>\n",
        "      <td> 0</td>\n",
        "      <td> 0</td>\n",
        "      <td> 0</td>\n",
        "      <td> 0</td>\n",
        "    </tr>\n",
        "    <tr>\n",
        "      <th>15</th>\n",
        "      <td> 0</td>\n",
        "      <td> 1</td>\n",
        "      <td> 0</td>\n",
        "      <td> 0</td>\n",
        "      <td> 0</td>\n",
        "      <td> 0</td>\n",
        "      <td> 0</td>\n",
        "      <td> 0</td>\n",
        "      <td> 0</td>\n",
        "      <td> 0</td>\n",
        "      <td> 0</td>\n",
        "      <td> 0</td>\n",
        "      <td> 0</td>\n",
        "      <td> 0</td>\n",
        "    </tr>\n",
        "    <tr>\n",
        "      <th>16</th>\n",
        "      <td> 0</td>\n",
        "      <td> 1</td>\n",
        "      <td> 0</td>\n",
        "      <td> 0</td>\n",
        "      <td> 0</td>\n",
        "      <td> 0</td>\n",
        "      <td> 0</td>\n",
        "      <td> 0</td>\n",
        "      <td> 0</td>\n",
        "      <td> 0</td>\n",
        "      <td> 0</td>\n",
        "      <td> 0</td>\n",
        "      <td> 0</td>\n",
        "      <td> 0</td>\n",
        "    </tr>\n",
        "    <tr>\n",
        "      <th>17</th>\n",
        "      <td> 0</td>\n",
        "      <td> 0</td>\n",
        "      <td> 0</td>\n",
        "      <td> 0</td>\n",
        "      <td> 0</td>\n",
        "      <td> 1</td>\n",
        "      <td> 0</td>\n",
        "      <td> 0</td>\n",
        "      <td> 0</td>\n",
        "      <td> 0</td>\n",
        "      <td> 0</td>\n",
        "      <td> 0</td>\n",
        "      <td> 0</td>\n",
        "      <td> 0</td>\n",
        "    </tr>\n",
        "    <tr>\n",
        "      <th>18</th>\n",
        "      <td> 0</td>\n",
        "      <td> 1</td>\n",
        "      <td> 0</td>\n",
        "      <td> 0</td>\n",
        "      <td> 0</td>\n",
        "      <td> 0</td>\n",
        "      <td> 0</td>\n",
        "      <td> 0</td>\n",
        "      <td> 0</td>\n",
        "      <td> 0</td>\n",
        "      <td> 0</td>\n",
        "      <td> 0</td>\n",
        "      <td> 0</td>\n",
        "      <td> 0</td>\n",
        "    </tr>\n",
        "    <tr>\n",
        "      <th>19</th>\n",
        "      <td> 0</td>\n",
        "      <td> 0</td>\n",
        "      <td> 1</td>\n",
        "      <td> 0</td>\n",
        "      <td> 0</td>\n",
        "      <td> 0</td>\n",
        "      <td> 0</td>\n",
        "      <td> 0</td>\n",
        "      <td> 0</td>\n",
        "      <td> 0</td>\n",
        "      <td> 0</td>\n",
        "      <td> 0</td>\n",
        "      <td> 0</td>\n",
        "      <td> 0</td>\n",
        "    </tr>\n",
        "  </tbody>\n",
        "</table>\n",
        "<p>20 rows \u00d7 14 columns</p>\n",
        "</div>"
       ],
       "metadata": {},
       "output_type": "pyout",
       "prompt_number": 155,
       "text": [
        "    business  recreation  health  sports  nan  arts_entertainment  \\\n",
        "0          1           0       0       0    0                   0   \n",
        "1          0           1       0       0    0                   0   \n",
        "2          0           0       1       0    0                   0   \n",
        "3          0           0       1       0    0                   0   \n",
        "4          0           0       0       1    0                   0   \n",
        "5          0           0       0       0    0                   0   \n",
        "6          0           0       0       0    0                   1   \n",
        "7          0           0       0       0    0                   0   \n",
        "8          0           0       0       0    0                   0   \n",
        "9          0           0       0       0    0                   0   \n",
        "10         1           0       0       0    0                   0   \n",
        "11         0           0       0       1    0                   0   \n",
        "12         0           0       1       0    0                   0   \n",
        "13         0           0       0       0    0                   0   \n",
        "14         0           1       0       0    0                   0   \n",
        "15         0           1       0       0    0                   0   \n",
        "16         0           1       0       0    0                   0   \n",
        "17         0           0       0       0    0                   1   \n",
        "18         0           1       0       0    0                   0   \n",
        "19         0           0       1       0    0                   0   \n",
        "\n",
        "    science_technology  gaming  culture_politics  computer_internet  \\\n",
        "0                    0       0                 0                  0   \n",
        "1                    0       0                 0                  0   \n",
        "2                    0       0                 0                  0   \n",
        "3                    0       0                 0                  0   \n",
        "4                    0       0                 0                  0   \n",
        "5                    0       0                 0                  0   \n",
        "6                    0       0                 0                  0   \n",
        "7                    0       0                 0                  0   \n",
        "8                    0       0                 0                  0   \n",
        "9                    0       0                 0                  0   \n",
        "10                   0       0                 0                  0   \n",
        "11                   0       0                 0                  0   \n",
        "12                   0       0                 0                  0   \n",
        "13                   0       0                 0                  0   \n",
        "14                   0       0                 0                  0   \n",
        "15                   0       0                 0                  0   \n",
        "16                   0       0                 0                  0   \n",
        "17                   0       0                 0                  0   \n",
        "18                   0       0                 0                  0   \n",
        "19                   0       0                 0                  0   \n",
        "\n",
        "    law_crime  religion  weather  unknown  \n",
        "0           0         0        0        0  \n",
        "1           0         0        0        0  \n",
        "2           0         0        0        0  \n",
        "3           0         0        0        0  \n",
        "4           0         0        0        0  \n",
        "5           0         0        0        0  \n",
        "6           0         0        0        0  \n",
        "7           0         0        0        0  \n",
        "8           0         0        0        0  \n",
        "9           0         0        0        0  \n",
        "10          0         0        0        0  \n",
        "11          0         0        0        0  \n",
        "12          0         0        0        0  \n",
        "13          0         0        0        0  \n",
        "14          0         0        0        0  \n",
        "15          0         0        0        0  \n",
        "16          0         0        0        0  \n",
        "17          0         0        0        0  \n",
        "18          0         0        0        0  \n",
        "19          0         0        0        0  \n",
        "\n",
        "[20 rows x 14 columns]"
       ]
      }
     ],
     "prompt_number": 155
    },
    {
     "cell_type": "code",
     "collapsed": false,
     "input": [
      "# blah.shape"
     ],
     "language": "python",
     "metadata": {},
     "outputs": [],
     "prompt_number": 6
    },
    {
     "cell_type": "code",
     "collapsed": false,
     "input": [
      "target = np.array(y)"
     ],
     "language": "python",
     "metadata": {},
     "outputs": [],
     "prompt_number": 4
    },
    {
     "cell_type": "code",
     "collapsed": false,
     "input": [
      "from sklearn import linear_model\n",
      "# clf = linear_model.Lasso(alpha=0.1)\n",
      "# clf.fit(blah,target)\n",
      "# print(clf.coef_)\n",
      "# print(clf.intercept_)"
     ],
     "language": "python",
     "metadata": {},
     "outputs": [],
     "prompt_number": 5
    },
    {
     "cell_type": "code",
     "collapsed": false,
     "input": [
      "# alphas = np.linspace(0.01,0.1)\n",
      "# coefs = []\n",
      "# for i,a in enumerate(alphas):\n",
      "#     clf = linear_model.Lasso(alpha=a)\n",
      "#     clf.fit(blah,target)\n",
      "#     coefs.append(clf.coef_)"
     ],
     "language": "python",
     "metadata": {},
     "outputs": [],
     "prompt_number": 9
    },
    {
     "cell_type": "code",
     "collapsed": false,
     "input": [
      "# plt.figure(figsize=(15,15))\n",
      "# for i in xrange(22): #column\n",
      "#     plt.plot(alphas,np.array(coefs)[:,i],label=str(i+1),linewidth=4)\n",
      "# plt.legend()"
     ],
     "language": "python",
     "metadata": {},
     "outputs": [],
     "prompt_number": 10
    },
    {
     "cell_type": "code",
     "collapsed": false,
     "input": [
      "# shape(coefs)"
     ],
     "language": "python",
     "metadata": {},
     "outputs": [],
     "prompt_number": 11
    },
    {
     "cell_type": "code",
     "collapsed": false,
     "input": [
      "# coefs[16]"
     ],
     "language": "python",
     "metadata": {},
     "outputs": [],
     "prompt_number": 12
    },
    {
     "cell_type": "code",
     "collapsed": false,
     "input": [
      "# df.iloc[:,4:-1].head()\n",
      "# commonlinkratio_3, frameTagRatio, linkwordscore"
     ],
     "language": "python",
     "metadata": {},
     "outputs": [],
     "prompt_number": 13
    },
    {
     "cell_type": "code",
     "collapsed": false,
     "input": [
      "def fromJson(a):\n",
      "    t = ' '\n",
      "    b = ' '\n",
      "    j = json.loads(a)\n",
      "    if j.get('title'):\n",
      "        t = j['title']\n",
      "    if j.get('body'):\n",
      "        t = j['body']\n",
      "    return t + ' ' + b"
     ],
     "language": "python",
     "metadata": {},
     "outputs": [],
     "prompt_number": 6
    },
    {
     "cell_type": "code",
     "collapsed": false,
     "input": [
      "snip = df['boilerplate'].apply(fromJson)\n",
      "snip = np.array(snip)\n",
      "\n",
      "engStops = stopwords.words('english')\n",
      "\n",
      "# vectorizer = TfidfVectorizer(max_df=0.5,stop_words=engStops,norm=u'l2')\n",
      "vectorizer = CountVectorizer(max_df=0.5,stop_words=engStops)\n",
      "X = vectorizer.fit_transform(snip)\n",
      "words = vectorizer.get_feature_names()"
     ],
     "language": "python",
     "metadata": {},
     "outputs": [],
     "prompt_number": 7
    },
    {
     "cell_type": "code",
     "collapsed": false,
     "input": [
      "# len(words[5919:-288])\n",
      "len(words)"
     ],
     "language": "python",
     "metadata": {},
     "outputs": [
      {
       "metadata": {},
       "output_type": "pyout",
       "prompt_number": 105,
       "text": [
        "85420"
       ]
      }
     ],
     "prompt_number": 105
    },
    {
     "cell_type": "code",
     "collapsed": false,
     "input": [
      "Xmean = np.mean(X.todense(),axis=0)"
     ],
     "language": "python",
     "metadata": {},
     "outputs": [],
     "prompt_number": 63
    },
    {
     "cell_type": "code",
     "collapsed": false,
     "input": [
      "inds = np.array(np.argsort(Xmean)[::-1])\n",
      "inds = inds[0][-10000:]"
     ],
     "language": "python",
     "metadata": {},
     "outputs": [],
     "prompt_number": 81
    },
    {
     "cell_type": "code",
     "collapsed": false,
     "input": [
      "Xnew = np.array([X[:,i].toarray() for i in inds])"
     ],
     "language": "python",
     "metadata": {},
     "outputs": [],
     "prompt_number": 92
    },
    {
     "cell_type": "code",
     "collapsed": false,
     "input": [
      "words = [words[i] for i in inds]"
     ],
     "language": "python",
     "metadata": {},
     "outputs": [],
     "prompt_number": 102
    },
    {
     "cell_type": "code",
     "collapsed": false,
     "input": [
      "X = Xnew[:,:,0].T"
     ],
     "language": "python",
     "metadata": {},
     "outputs": [],
     "prompt_number": 99
    },
    {
     "cell_type": "code",
     "collapsed": false,
     "input": [
      "alphas = np.logspace(-5,-2,num=5)\n",
      "coefs_words = []\n",
      "for i,a in enumerate(alphas):\n",
      "    clf = linear_model.Lasso(alpha=a)\n",
      "    clf.fit(X,target)\n",
      "    coefs_words.append(clf.coef_)"
     ],
     "language": "python",
     "metadata": {},
     "outputs": [],
     "prompt_number": 19
    },
    {
     "cell_type": "code",
     "collapsed": false,
     "input": [
      "plt.figure(figsize=(15,15))\n",
      "for i in xrange(X.shape[1]): #column\n",
      "    plt.plot(alphas,np.array(coefs_words)[:,i],label=str(i+1),linewidth=1)\n",
      "plt.legend()"
     ],
     "language": "python",
     "metadata": {},
     "outputs": []
    },
    {
     "cell_type": "code",
     "collapsed": false,
     "input": [
      "set(coefs_words[3])"
     ],
     "language": "python",
     "metadata": {},
     "outputs": [
      {
       "metadata": {},
       "output_type": "pyout",
       "prompt_number": 27,
       "text": [
        "{-0.24323674961559885,\n",
        " -0.0,\n",
        " 0.10517822695517939,\n",
        " 0.14206094268329442,\n",
        " 0.22042423250501672,\n",
        " 0.25157842029077487,\n",
        " 0.26311069442183727,\n",
        " 0.30207166183429973,\n",
        " 0.39277486130099365,\n",
        " 0.41728135160870727,\n",
        " 0.53032334457314156,\n",
        " 0.63943426645813484,\n",
        " 0.67009760573219534,\n",
        " 1.03372483991735,\n",
        " 1.1884946059446926,\n",
        " 1.8191568085648042}"
       ]
      }
     ],
     "prompt_number": 27
    },
    {
     "cell_type": "code",
     "collapsed": false,
     "input": [
      "np.argsort(coefs_words[3])[::-1][:15]"
     ],
     "language": "python",
     "metadata": {},
     "outputs": [
      {
       "metadata": {},
       "output_type": "pyout",
       "prompt_number": 34,
       "text": [
        "array([62994, 50476, 22515, 17610, 63033,  6614, 15331, 18132, 47761,\n",
        "       73706, 32220, 17871, 15688, 54659, 28414])"
       ]
      }
     ],
     "prompt_number": 34
    },
    {
     "cell_type": "code",
     "collapsed": false,
     "input": [
      "word_inds = [62994, 50476, 22515, 17610, 63033,  6614, 15331, 18132, 47761, 73706, 32220, 17871, 15688, 54659, 28414]\n",
      "\n",
      "for word_ind in word_inds:\n",
      "    print vectorizer.get_feature_names()[word_ind]"
     ],
     "language": "python",
     "metadata": {},
     "outputs": [
      {
       "output_type": "stream",
       "stream": "stdout",
       "text": [
        "recipe\n",
        "minutes"
       ]
      },
      {
       "output_type": "stream",
       "stream": "stdout",
       "text": [
        "\n",
        "cup"
       ]
      },
      {
       "output_type": "stream",
       "stream": "stdout",
       "text": [
        "\n",
        "cheese"
       ]
      },
      {
       "output_type": "stream",
       "stream": "stdout",
       "text": [
        "\n",
        "recipes"
       ]
      },
      {
       "output_type": "stream",
       "stream": "stdout",
       "text": [
        "\n",
        "add"
       ]
      },
      {
       "output_type": "stream",
       "stream": "stdout",
       "text": [
        "\n",
        "butter"
       ]
      },
      {
       "output_type": "stream",
       "stream": "stdout",
       "text": [
        "\n",
        "chocolate"
       ]
      },
      {
       "output_type": "stream",
       "stream": "stdout",
       "text": [
        "\n",
        "make"
       ]
      },
      {
       "output_type": "stream",
       "stream": "stdout",
       "text": [
        "\n",
        "sugar"
       ]
      },
      {
       "output_type": "stream",
       "stream": "stdout",
       "text": [
        "\n",
        "food"
       ]
      },
      {
       "output_type": "stream",
       "stream": "stdout",
       "text": [
        "\n",
        "chicken"
       ]
      },
      {
       "output_type": "stream",
       "stream": "stdout",
       "text": [
        "\n",
        "cake"
       ]
      },
      {
       "output_type": "stream",
       "stream": "stdout",
       "text": [
        "\n",
        "oil"
       ]
      },
      {
       "output_type": "stream",
       "stream": "stdout",
       "text": [
        "\n",
        "energies"
       ]
      },
      {
       "output_type": "stream",
       "stream": "stdout",
       "text": [
        "\n"
       ]
      }
     ],
     "prompt_number": 35
    },
    {
     "cell_type": "code",
     "collapsed": false,
     "input": [
      "x = np.array([1,2,3,4,5])\n",
      "np.argsort(x)[::-1][:3]"
     ],
     "language": "python",
     "metadata": {},
     "outputs": [
      {
       "metadata": {},
       "output_type": "pyout",
       "prompt_number": 33,
       "text": [
        "array([4, 3, 2])"
       ]
      }
     ],
     "prompt_number": 33
    },
    {
     "cell_type": "code",
     "collapsed": false,
     "input": [
      "from sklearn.ensemble import RandomForestClassifier as RF\n",
      "from sklearn.cross_validation import train_test_split\n",
      "from sklearn.preprocessing import StandardScaler\n",
      "\n",
      "def find_feature_importance(y,X,features,n):\n",
      "    # This is important\n",
      "    scaler = StandardScaler()\n",
      "    X = scaler.fit_transform(X)\n",
      "    train_index,test_index = train_test_split(df.index)\n",
      "\n",
      "    forest = RF()\n",
      "    forest_fit = forest.fit(X[train_index], y[train_index])\n",
      "    forest_predictions = forest_fit.predict(X[test_index])\n",
      "\n",
      "    importances = forest_fit.feature_importances_\n",
      "    std = np.std([tree.feature_importances_ for tree in forest.estimators_],axis=0)\n",
      "    indices = np.argsort(importances)[:-n-1:-1]\n",
      "\n",
      "    # features = df.iloc[:,4:-1].columns\n",
      "    # features = words\n",
      "    #print features\n",
      "    # Print the feature ranking\n",
      "    print(\"Feature ranking:\")\n",
      "\n",
      "    #print indices\n",
      "    for f in range(n):\n",
      "        print(\"%d. %s (%f) %i\" % (f + 1, features[indices[f]], importances[indices[f]], indices[f]))\n",
      "\n",
      "    # Plot the feature importances of the forest\n",
      "    #import pylab as pl\n",
      "    plt.figure()\n",
      "    plt.title(\"Feature importances\")\n",
      "    plt.bar(range(n), importances[indices], yerr=std[indices], color=\"r\", align=\"center\")\n",
      "    plt.xticks(range(n), indices)\n",
      "    plt.xlim([-1, n])\n",
      "    plt.show()\n",
      "    \n",
      "    featlist = []\n",
      "    indlist = []\n",
      "    implist = []\n",
      "    for f in xrange(len(features)):\n",
      "        indlist.append(f)\n",
      "        featlist.append(features[f])\n",
      "        implist.append(importances[f])\n",
      "    return indlist, featlist, implist"
     ],
     "language": "python",
     "metadata": {},
     "outputs": [],
     "prompt_number": 8
    },
    {
     "cell_type": "code",
     "collapsed": false,
     "input": [
      "a = y\n",
      "b = df.iloc[:,4:]\n",
      "c = df.iloc[:,4:].columns\n",
      "n = b.shape[1]\n",
      "find_feature_importance(a,b,c,n);"
     ],
     "language": "python",
     "metadata": {},
     "outputs": [
      {
       "output_type": "stream",
       "stream": "stdout",
       "text": [
        "Feature ranking:\n",
        "1. non_markup_alphanum_characters (0.081501) 17\n",
        "2. linkwordscore (0.074641) 15\n",
        "3. frameTagRatio (0.069260) 9\n",
        "4. avglinksize (0.066095) 1\n",
        "5. html_ratio (0.056967) 11\n",
        "6. spelling_errors_ratio (0.056346) 21\n",
        "7. commonlinkratio_3 (0.055661) 4\n",
        "8. compression_ratio (0.054889) 6\n",
        "9. commonlinkratio_1 (0.054706) 2\n",
        "10. parametrizedLinkRatio (0.054080) 20\n",
        "11. numberOfLinks (0.052591) 18\n",
        "12. image_ratio (0.052289) 12\n",
        "13. commonlinkratio_2 (0.047535) 3\n",
        "14. alchemy_category_score (0.043742) 0\n",
        "15. numwords_in_url (0.038445) 19\n",
        "16. commonlinkratio_4 (0.037451) 5\n",
        "17. recreation (0.016620) 23\n",
        "18. business (0.013527) 22\n",
        "19. sports (0.011740) 25\n",
        "20. arts_entertainment (0.010525) 27\n",
        "21. embed_ratio (0.009459) 7\n",
        "22. computer_internet (0.008572) 31\n",
        "23. news_front_page (0.007933) 16\n",
        "24. health (0.007795) 24\n",
        "25. lengthyLinkDomain (0.005972) 14\n",
        "26. culture_politics (0.003315) 30\n",
        "27. science_technology (0.003201) 28\n",
        "28. hasDomainLink (0.002446) 10\n",
        "29. gaming (0.000903) 29\n",
        "30. religion (0.000814) 33\n",
        "31. law_crime (0.000622) 32\n",
        "32. unknown (0.000361) 35\n",
        "33. framebased (0.000000) 8\n",
        "34. nan (0.000000) 26\n",
        "35. is_news (0.000000) 13\n",
        "36. weather (0.000000) 34\n"
       ]
      },
      {
       "metadata": {},
       "output_type": "display_data",
       "png": "[encoded data removed]",
       "text": [
        "<matplotlib.figure.Figure at 0x1186ba250>"
       ]
      }
     ],
     "prompt_number": 179
    },
    {
     "cell_type": "code",
     "collapsed": false,
     "input": [
      "inds = [5100, 15100, 25100, 35100, 45100, 55100, 65100, 75100]\n",
      "imp_feats = []\n",
      "imp_inds = []\n",
      "imp_imps = []\n",
      "for ind in inds:\n",
      "    Xn = X[:,ind:ind+10000].todense()\n",
      "    wordsn = words[ind:ind+10000]\n",
      "    iinds, ifeats, iimps = find_feature_importance(y,Xn,wordsn,10)\n",
      "    imp_feats.append(ifeats)\n",
      "    imp_inds.append(list(np.array(iinds)+ind))\n",
      "    imp_imps.append(iimps)\n",
      "imp_feats = list(itertools.chain(*imp_feats))\n",
      "imp_inds = list(itertools.chain(*imp_inds))\n",
      "imp_imps = list(itertools.chain(*imp_imps))"
     ],
     "language": "python",
     "metadata": {},
     "outputs": [
      {
       "output_type": "stream",
       "stream": "stdout",
       "text": [
        "Feature ranking:\n",
        "1. bake (0.043799) 5771\n",
        "2. add (0.027642) 1515\n",
        "3. baking (0.022191) 5811\n",
        "4. bowl (0.020385) 8951\n",
        "5. bread (0.014582) 9200\n",
        "6. aside (0.012572) 4595\n",
        "7. baked (0.012423) 5774\n",
        "8. breakfast (0.010582) 9252\n",
        "9. best (0.009269) 7215\n",
        "10. brown (0.008806) 9661\n"
       ]
      },
      {
       "metadata": {},
       "output_type": "display_data",
       "png": "[encoded data removed]",
       "text": [
        "<matplotlib.figure.Figure at 0x10f3c1190>"
       ]
      },
      {
       "output_type": "stream",
       "stream": "stdout",
       "text": [
        "Feature ranking:\n",
        "1. cups (0.019366) 7507\n",
        "2. cheese (0.019273) 2544\n",
        "3. cooking (0.018576) 5857\n",
        "4. cook (0.018381) 5777\n",
        "5. combine (0.014803) 4591\n",
        "6. degrees (0.014645) 8796\n",
        "7. delicious (0.012964) 8892\n",
        "8. chopped (0.012312) 3154\n",
        "9. chicken (0.011514) 2805\n",
        "10. chocolate (0.010506) 3066\n"
       ]
      },
      {
       "metadata": {},
       "output_type": "display_data",
       "png": "[encoded data removed]",
       "text": [
        "<matplotlib.figure.Figure at 0x111ee7bd0>"
       ]
      },
      {
       "output_type": "stream",
       "stream": "stdout",
       "text": [
        "Feature ranking:\n",
        "1. flour (0.026298) 6878\n",
        "2. fresh (0.026238) 7879\n",
        "3. easy (0.024661) 2192\n",
        "4. food (0.023429) 7182\n",
        "5. dish (0.011725) 376\n",
        "6. egg (0.009334) 2548\n",
        "7. dough (0.009179) 1268\n",
        "8. fat (0.009116) 5496\n",
        "9. evenly (0.009109) 4309\n",
        "10. fashion (0.008565) 5452\n"
       ]
      },
      {
       "metadata": {},
       "output_type": "display_data",
       "png": "[encoded data removed]",
       "text": [
        "<matplotlib.figure.Figure at 0x10f260110>"
       ]
      },
      {
       "output_type": "stream",
       "stream": "stdout",
       "text": [
        "Feature ranking:\n",
        "1. ingredients (0.037951) 5522\n",
        "2. large (0.023971) 9966\n",
        "3. kitchen (0.016401) 8952\n",
        "4. inch (0.013508) 5051\n",
        "5. healthy (0.012767) 2339\n",
        "6. heat (0.012545) 2405\n",
        "7. hot (0.012256) 3657\n",
        "8. juice (0.008602) 7710\n",
        "9. good (0.008497) 124\n",
        "10. half (0.008453) 1566\n"
       ]
      },
      {
       "metadata": {},
       "output_type": "display_data",
       "png": "[encoded data removed]",
       "text": [
        "<matplotlib.figure.Figure at 0x10f3c1050>"
       ]
      },
      {
       "output_type": "stream",
       "stream": "stdout",
       "text": [
        "Feature ranking:\n",
        "1. minutes (0.036466) 5469\n",
        "2. mix (0.022505) 5724\n",
        "3. make (0.017792) 2748\n",
        "4. oil (0.017024) 9670\n",
        "5. medium (0.015264) 4226\n",
        "6. onion (0.010899) 9989\n",
        "7. new (0.010764) 8086\n",
        "8. melted (0.010488) 4397\n",
        "9. one (0.010018) 9961\n",
        "10. milk (0.010001) 5163\n"
       ]
      },
      {
       "metadata": {},
       "output_type": "display_data",
       "png": "[encoded data removed]",
       "text": [
        "<matplotlib.figure.Figure at 0x10f260110>"
       ]
      },
      {
       "output_type": "stream",
       "stream": "stdout",
       "text": [
        "Feature ranking:\n",
        "1. recipe (0.063305) 8016\n",
        "2. recipes (0.026952) 8055\n",
        "3. remove (0.023724) 8915\n",
        "4. pan (0.017836) 1403\n",
        "5. pepper (0.011408) 2613\n",
        "6. pot (0.010173) 4936\n",
        "7. powder (0.009586) 5054\n",
        "8. rack (0.009347) 7212\n",
        "9. plate (0.008084) 4039\n",
        "10. peanut (0.006969) 2270\n"
       ]
      },
      {
       "metadata": {},
       "output_type": "display_data",
       "png": "[encoded data removed]",
       "text": [
        "<matplotlib.figure.Figure at 0x10f4a9110>"
       ]
      },
      {
       "output_type": "stream",
       "stream": "stdout",
       "text": [
        "Feature ranking:\n",
        "1. salt (0.025516) 1456\n",
        "2. sprinkle (0.017941) 6961\n",
        "3. sauce (0.017567) 1878\n",
        "4. sugar (0.013394) 8748\n",
        "5. smooth (0.011855) 5480\n",
        "6. sweet (0.011405) 9517\n",
        "7. slice (0.010638) 5149\n",
        "8. stir (0.010507) 7836\n",
        "9. serving (0.008071) 3309\n",
        "10. sports (0.007654) 6847\n"
       ]
      },
      {
       "metadata": {},
       "output_type": "display_data",
       "png": "[encoded data removed]",
       "text": [
        "<matplotlib.figure.Figure at 0x10f3c1390>"
       ]
      },
      {
       "output_type": "stream",
       "stream": "stdout",
       "text": [
        "Feature ranking:\n",
        "1. taste (0.020716) 353\n",
        "2. teaspoon (0.019138) 580\n",
        "3. vanilla (0.012028) 5585\n",
        "4. whisk (0.011525) 7899\n",
        "5. water (0.011081) 7209\n",
        "6. tomatoes (0.009853) 2277\n",
        "7. world (0.009296) 8697\n",
        "8. together (0.007998) 2198\n",
        "9. top (0.007871) 2413\n",
        "10. time (0.007812) 1869\n"
       ]
      },
      {
       "metadata": {},
       "output_type": "display_data",
       "png": "[encoded data removed]",
       "text": [
        "<matplotlib.figure.Figure at 0x10f4c1f50>"
       ]
      }
     ],
     "prompt_number": 39
    },
    {
     "cell_type": "code",
     "collapsed": false,
     "input": [
      "df2 = pd.DataFrame(pd.Series(np.array(imp_inds)),columns=['index'])\n",
      "#df2 = df2.add(pd.Series(np.array(imp_feats)),axis=0)\n",
      "df2['feature'] = pd.Series(np.array(imp_feats))\n",
      "df2['importance'] = pd.Series(np.array(imp_imps))\n",
      "df2.head()"
     ],
     "language": "python",
     "metadata": {},
     "outputs": [
      {
       "html": [
        "<div style=\"max-height:1000px;max-width:1500px;overflow:auto;\">\n",
        "<table border=\"1\" class=\"dataframe\">\n",
        "  <thead>\n",
        "    <tr style=\"text-align: right;\">\n",
        "      <th></th>\n",
        "      <th>index</th>\n",
        "      <th>feature</th>\n",
        "      <th>importance</th>\n",
        "    </tr>\n",
        "  </thead>\n",
        "  <tbody>\n",
        "    <tr>\n",
        "      <th>0</th>\n",
        "      <td> 5100</td>\n",
        "      <td> 73n5xd7</td>\n",
        "      <td> 0.000000</td>\n",
        "    </tr>\n",
        "    <tr>\n",
        "      <th>1</th>\n",
        "      <td> 5101</td>\n",
        "      <td> 73n6h07</td>\n",
        "      <td> 0.000067</td>\n",
        "    </tr>\n",
        "    <tr>\n",
        "      <th>2</th>\n",
        "      <td> 5102</td>\n",
        "      <td> 73n7od7</td>\n",
        "      <td> 0.000000</td>\n",
        "    </tr>\n",
        "    <tr>\n",
        "      <th>3</th>\n",
        "      <td> 5103</td>\n",
        "      <td>     73p</td>\n",
        "      <td> 0.000000</td>\n",
        "    </tr>\n",
        "    <tr>\n",
        "      <th>4</th>\n",
        "      <td> 5104</td>\n",
        "      <td>    73rd</td>\n",
        "      <td> 0.000000</td>\n",
        "    </tr>\n",
        "  </tbody>\n",
        "</table>\n",
        "<p>5 rows \u00d7 3 columns</p>\n",
        "</div>"
       ],
       "metadata": {},
       "output_type": "pyout",
       "prompt_number": 40,
       "text": [
        "   index  feature  importance\n",
        "0   5100  73n5xd7    0.000000\n",
        "1   5101  73n6h07    0.000067\n",
        "2   5102  73n7od7    0.000000\n",
        "3   5103      73p    0.000000\n",
        "4   5104     73rd    0.000000\n",
        "\n",
        "[5 rows x 3 columns]"
       ]
      }
     ],
     "prompt_number": 40
    },
    {
     "cell_type": "code",
     "collapsed": false,
     "input": [
      "df2.to_pickle('bagimportant.pkl')"
     ],
     "language": "python",
     "metadata": {},
     "outputs": [],
     "prompt_number": 41
    },
    {
     "cell_type": "code",
     "collapsed": false,
     "input": [
      "plt.plot(sorted(df2[df2['importance']>0.005]['importance']),'o')"
     ],
     "language": "python",
     "metadata": {},
     "outputs": [
      {
       "metadata": {},
       "output_type": "pyout",
       "prompt_number": 52,
       "text": [
        "[<matplotlib.lines.Line2D at 0x1125c4590>]"
       ]
      },
      {
       "metadata": {},
       "output_type": "display_data",
       "png": "[encoded data removed]",
       "text": [
        "<matplotlib.figure.Figure at 0x1110b8ed0>"
       ]
      }
     ],
     "prompt_number": 52
    },
    {
     "cell_type": "code",
     "collapsed": false,
     "input": [],
     "language": "python",
     "metadata": {},
     "outputs": []
    }
   ],
   "metadata": {}
  }
 ]
}